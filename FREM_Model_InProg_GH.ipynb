{
 "cells": [
  {
   "cell_type": "markdown",
   "metadata": {},
   "source": [
    "# Fierce Research Equity Model (FREM) "
   ]
  },
  {
   "cell_type": "markdown",
   "metadata": {},
   "source": [
    "Theory: \n",
    "- The academic finance literature includes numerous papers on factor premia that can be captured by equity investors. Momentum, liquidity and volatility are factors that have demonstrated to influence the future return of a security. Therefore, based on the following inputs, the objective is to determine if the price of a particular security will be higher or lower than it is today in 10, 50, 100 and 250 days from today."
   ]
  },
  {
   "cell_type": "markdown",
   "metadata": {},
   "source": [
    "Thesis:\n",
    "- Classification Problem: Will stock be higher or lower in N days from now based on the following features?"
   ]
  },
  {
   "cell_type": "markdown",
   "metadata": {},
   "source": [
    "Raw Input:\n",
    "- Close Price\n",
    "- N-day average daily volume\n",
    "\n",
    "Custom Features that I will need to create:\n",
    "- N-day % price change\n",
    "- N-day stock price return\n",
    "- N-day stock price volatility\n",
    "- % from 52-week high"
   ]
  },
  {
   "cell_type": "markdown",
   "metadata": {},
   "source": [
    "Data Source Info:\n",
    "- Dividend and split-adjusted\n",
    "\n",
    "Universe: I intend to run the model on the Nasdaq 100, TSX 300, and the S&P 500.\n",
    "\n",
    "Backtest Period Jan 2007 to Dec 2013 | Optimization Jan 2014 to Dec 2017 | Out of Sample Jan 2018 to June 2020"
   ]
  },
  {
   "cell_type": "markdown",
   "metadata": {},
   "source": [
    "#### Import Packages"
   ]
  },
  {
   "cell_type": "code",
   "execution_count": 1,
   "metadata": {},
   "outputs": [],
   "source": [
    "import numpy as np\n",
    "import pandas as pd\n",
    "import sklearn as sk\n",
    "\n",
    "#Charting\n",
    "import matplotlib.pyplot as plt\n",
    "%matplotlib inline\n",
    "plt.style.use('seaborn')\n",
    "\n",
    "#Ignore Warnings\n",
    "import warnings \n",
    "warnings.filterwarnings('ignore')"
   ]
  },
  {
   "cell_type": "markdown",
   "metadata": {},
   "source": [
    "#### Import App Key"
   ]
  },
  {
   "cell_type": "code",
   "execution_count": 2,
   "metadata": {},
   "outputs": [],
   "source": [
    "import eikon as tr\n",
    "tr.set_app_key('AppKey')"
   ]
  },
  {
   "cell_type": "code",
   "execution_count": 3,
   "metadata": {},
   "outputs": [],
   "source": [
    "start_date = '-700'\n",
    "end_date = '0'\n",
    "df1, e= tr.get_data(['0#.NDX'],['tr.closeprice.date','tr.priceclose','tr.volume'],\n",
    "                       {'SDate':start_date,'EDate':end_date,'Frq':'w'})"
   ]
  },
  {
   "cell_type": "markdown",
   "metadata": {},
   "source": [
    "#### Set Date To Index & Format Columns"
   ]
  },
  {
   "cell_type": "code",
   "execution_count": 4,
   "metadata": {},
   "outputs": [],
   "source": [
    "df1['Date'] = pd.to_datetime(df1['Date'])\n",
    "df1.set_index('Date', inplace=True) \n",
    "df1.index = df1.index.map(lambda t: t.strftime('%Y-%m-%d')) \n",
    "df1.columns = map(str.lower, df1.columns)"
   ]
  },
  {
   "cell_type": "markdown",
   "metadata": {},
   "source": [
    "#### Data Format "
   ]
  },
  {
   "cell_type": "code",
   "execution_count": 5,
   "metadata": {},
   "outputs": [
    {
     "data": {
      "text/plain": [
       "(72203, 3)"
      ]
     },
     "execution_count": 5,
     "metadata": {},
     "output_type": "execute_result"
    }
   ],
   "source": [
    "df1.shape"
   ]
  },
  {
   "cell_type": "code",
   "execution_count": 6,
   "metadata": {},
   "outputs": [],
   "source": [
    "df1 = df1.round(2)"
   ]
  },
  {
   "cell_type": "code",
   "execution_count": 7,
   "metadata": {},
   "outputs": [],
   "source": [
    "df1 = df1.dropna()"
   ]
  },
  {
   "cell_type": "code",
   "execution_count": 8,
   "metadata": {},
   "outputs": [
    {
     "data": {
      "text/html": [
       "<div>\n",
       "<style scoped>\n",
       "    .dataframe tbody tr th:only-of-type {\n",
       "        vertical-align: middle;\n",
       "    }\n",
       "\n",
       "    .dataframe tbody tr th {\n",
       "        vertical-align: top;\n",
       "    }\n",
       "\n",
       "    .dataframe thead th {\n",
       "        text-align: right;\n",
       "    }\n",
       "</style>\n",
       "<table border=\"1\" class=\"dataframe\">\n",
       "  <thead>\n",
       "    <tr style=\"text-align: right;\">\n",
       "      <th></th>\n",
       "      <th>instrument</th>\n",
       "      <th>price close</th>\n",
       "      <th>volume</th>\n",
       "    </tr>\n",
       "    <tr>\n",
       "      <th>Date</th>\n",
       "      <th></th>\n",
       "      <th></th>\n",
       "      <th></th>\n",
       "    </tr>\n",
       "  </thead>\n",
       "  <tbody>\n",
       "    <tr>\n",
       "      <th>2007-01-19</th>\n",
       "      <td>INCY.OQ</td>\n",
       "      <td>7.16</td>\n",
       "      <td>252764</td>\n",
       "    </tr>\n",
       "    <tr>\n",
       "      <th>2007-01-26</th>\n",
       "      <td>INCY.OQ</td>\n",
       "      <td>7.31</td>\n",
       "      <td>238010</td>\n",
       "    </tr>\n",
       "    <tr>\n",
       "      <th>2007-02-02</th>\n",
       "      <td>INCY.OQ</td>\n",
       "      <td>7.58</td>\n",
       "      <td>303320</td>\n",
       "    </tr>\n",
       "    <tr>\n",
       "      <th>2007-02-09</th>\n",
       "      <td>INCY.OQ</td>\n",
       "      <td>7.22</td>\n",
       "      <td>386669</td>\n",
       "    </tr>\n",
       "    <tr>\n",
       "      <th>2007-02-16</th>\n",
       "      <td>INCY.OQ</td>\n",
       "      <td>6.89</td>\n",
       "      <td>567926</td>\n",
       "    </tr>\n",
       "    <tr>\n",
       "      <th>...</th>\n",
       "      <td>...</td>\n",
       "      <td>...</td>\n",
       "      <td>...</td>\n",
       "    </tr>\n",
       "    <tr>\n",
       "      <th>2020-05-22</th>\n",
       "      <td>VRTX.OQ</td>\n",
       "      <td>284.96</td>\n",
       "      <td>315839</td>\n",
       "    </tr>\n",
       "    <tr>\n",
       "      <th>2020-05-29</th>\n",
       "      <td>VRTX.OQ</td>\n",
       "      <td>287.96</td>\n",
       "      <td>3672201</td>\n",
       "    </tr>\n",
       "    <tr>\n",
       "      <th>2020-06-05</th>\n",
       "      <td>VRTX.OQ</td>\n",
       "      <td>265.69</td>\n",
       "      <td>1127044</td>\n",
       "    </tr>\n",
       "    <tr>\n",
       "      <th>2020-06-12</th>\n",
       "      <td>VRTX.OQ</td>\n",
       "      <td>268.56</td>\n",
       "      <td>651813</td>\n",
       "    </tr>\n",
       "    <tr>\n",
       "      <th>2020-06-19</th>\n",
       "      <td>VRTX.OQ</td>\n",
       "      <td>293.27</td>\n",
       "      <td>2434452</td>\n",
       "    </tr>\n",
       "  </tbody>\n",
       "</table>\n",
       "<p>65849 rows × 3 columns</p>\n",
       "</div>"
      ],
      "text/plain": [
       "           instrument  price close   volume\n",
       "Date                                       \n",
       "2007-01-19    INCY.OQ         7.16   252764\n",
       "2007-01-26    INCY.OQ         7.31   238010\n",
       "2007-02-02    INCY.OQ         7.58   303320\n",
       "2007-02-09    INCY.OQ         7.22   386669\n",
       "2007-02-16    INCY.OQ         6.89   567926\n",
       "...               ...          ...      ...\n",
       "2020-05-22    VRTX.OQ       284.96   315839\n",
       "2020-05-29    VRTX.OQ       287.96  3672201\n",
       "2020-06-05    VRTX.OQ       265.69  1127044\n",
       "2020-06-12    VRTX.OQ       268.56   651813\n",
       "2020-06-19    VRTX.OQ       293.27  2434452\n",
       "\n",
       "[65849 rows x 3 columns]"
      ]
     },
     "execution_count": 8,
     "metadata": {},
     "output_type": "execute_result"
    }
   ],
   "source": [
    "df1"
   ]
  },
  {
   "cell_type": "code",
   "execution_count": 9,
   "metadata": {},
   "outputs": [
    {
     "data": {
      "text/plain": [
       "instrument     0\n",
       "price close    0\n",
       "volume         0\n",
       "dtype: int64"
      ]
     },
     "execution_count": 9,
     "metadata": {},
     "output_type": "execute_result"
    }
   ],
   "source": [
    "df1.isnull().sum()"
   ]
  },
  {
   "cell_type": "markdown",
   "metadata": {},
   "source": [
    "#### Features"
   ]
  },
  {
   "cell_type": "code",
   "execution_count": null,
   "metadata": {},
   "outputs": [],
   "source": []
  },
  {
   "cell_type": "markdown",
   "metadata": {},
   "source": [
    "#### Split Dataset"
   ]
  },
  {
   "cell_type": "markdown",
   "metadata": {},
   "source": [
    "https://scikit-learn.org/stable/modules/generated/sklearn.model_selection.TimeSeriesSplit.html"
   ]
  },
  {
   "cell_type": "markdown",
   "metadata": {},
   "source": [
    "#### Model Selection"
   ]
  },
  {
   "cell_type": "markdown",
   "metadata": {},
   "source": [
    "- SVM\n",
    "- Gradient Boosting"
   ]
  },
  {
   "cell_type": "code",
   "execution_count": null,
   "metadata": {},
   "outputs": [],
   "source": []
  }
 ],
 "metadata": {
  "kernelspec": {
   "display_name": "Python 3",
   "language": "python",
   "name": "python3"
  },
  "language_info": {
   "codemirror_mode": {
    "name": "ipython",
    "version": 3
   },
   "file_extension": ".py",
   "mimetype": "text/x-python",
   "name": "python",
   "nbconvert_exporter": "python",
   "pygments_lexer": "ipython3",
   "version": "3.7.4"
  }
 },
 "nbformat": 4,
 "nbformat_minor": 4
}
